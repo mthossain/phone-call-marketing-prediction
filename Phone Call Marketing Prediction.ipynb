{
 "cells": [
  {
   "cell_type": "markdown",
   "metadata": {},
   "source": [
    "# Phone Call Marketing Campaign Prediction using Classification"
   ]
  },
  {
   "cell_type": "markdown",
   "metadata": {},
   "source": [
    "The main goal of this portfolio is using Classifications. The data is related to direct marketing campaigns (Phone Calls) of a Portuguese banking institution. The classification goal is to predict if the client will subscribe a term deposit."
   ]
  },
  {
   "cell_type": "code",
   "execution_count": 3,
   "metadata": {},
   "outputs": [],
   "source": [
    "import pandas as pd\n",
    "from sklearn.preprocessing import OrdinalEncoder\n",
    "from sklearn.metrics import accuracy_score\n",
    "from sklearn.metrics import roc_auc_score\n",
    "from sklearn.naive_bayes import GaussianNB\n",
    "from sklearn.naive_bayes import MultinomialNB\n",
    "from sklearn.feature_selection import RFE\n",
    "import numpy as np\n",
    "from sklearn.preprocessing import KBinsDiscretizer\n",
    "from sklearn.model_selection import train_test_split\n",
    "import matplotlib.pylab as plt\n",
    "%matplotlib inline"
   ]
  },
  {
   "cell_type": "markdown",
   "metadata": {},
   "source": [
    "#### Importing the data"
   ]
  },
  {
   "cell_type": "code",
   "execution_count": 67,
   "metadata": {},
   "outputs": [],
   "source": [
    "df = pd.read_csv('data/bank-additional-full.csv', sep=';')"
   ]
  },
  {
   "cell_type": "code",
   "execution_count": 68,
   "metadata": {
    "scrolled": true
   },
   "outputs": [
    {
     "data": {
      "text/html": [
       "<div>\n",
       "<style scoped>\n",
       "    .dataframe tbody tr th:only-of-type {\n",
       "        vertical-align: middle;\n",
       "    }\n",
       "\n",
       "    .dataframe tbody tr th {\n",
       "        vertical-align: top;\n",
       "    }\n",
       "\n",
       "    .dataframe thead th {\n",
       "        text-align: right;\n",
       "    }\n",
       "</style>\n",
       "<table border=\"1\" class=\"dataframe\">\n",
       "  <thead>\n",
       "    <tr style=\"text-align: right;\">\n",
       "      <th></th>\n",
       "      <th>age</th>\n",
       "      <th>job</th>\n",
       "      <th>marital</th>\n",
       "      <th>education</th>\n",
       "      <th>default</th>\n",
       "      <th>housing</th>\n",
       "      <th>loan</th>\n",
       "      <th>contact</th>\n",
       "      <th>month</th>\n",
       "      <th>day_of_week</th>\n",
       "      <th>...</th>\n",
       "      <th>campaign</th>\n",
       "      <th>pdays</th>\n",
       "      <th>previous</th>\n",
       "      <th>poutcome</th>\n",
       "      <th>emp.var.rate</th>\n",
       "      <th>cons.price.idx</th>\n",
       "      <th>cons.conf.idx</th>\n",
       "      <th>euribor3m</th>\n",
       "      <th>nr.employed</th>\n",
       "      <th>y</th>\n",
       "    </tr>\n",
       "  </thead>\n",
       "  <tbody>\n",
       "    <tr>\n",
       "      <th>0</th>\n",
       "      <td>56</td>\n",
       "      <td>housemaid</td>\n",
       "      <td>married</td>\n",
       "      <td>basic.4y</td>\n",
       "      <td>no</td>\n",
       "      <td>no</td>\n",
       "      <td>no</td>\n",
       "      <td>telephone</td>\n",
       "      <td>may</td>\n",
       "      <td>mon</td>\n",
       "      <td>...</td>\n",
       "      <td>1</td>\n",
       "      <td>999</td>\n",
       "      <td>0</td>\n",
       "      <td>nonexistent</td>\n",
       "      <td>1.1</td>\n",
       "      <td>93.994</td>\n",
       "      <td>-36.4</td>\n",
       "      <td>4.857</td>\n",
       "      <td>5191.0</td>\n",
       "      <td>no</td>\n",
       "    </tr>\n",
       "    <tr>\n",
       "      <th>1</th>\n",
       "      <td>57</td>\n",
       "      <td>services</td>\n",
       "      <td>married</td>\n",
       "      <td>high.school</td>\n",
       "      <td>unknown</td>\n",
       "      <td>no</td>\n",
       "      <td>no</td>\n",
       "      <td>telephone</td>\n",
       "      <td>may</td>\n",
       "      <td>mon</td>\n",
       "      <td>...</td>\n",
       "      <td>1</td>\n",
       "      <td>999</td>\n",
       "      <td>0</td>\n",
       "      <td>nonexistent</td>\n",
       "      <td>1.1</td>\n",
       "      <td>93.994</td>\n",
       "      <td>-36.4</td>\n",
       "      <td>4.857</td>\n",
       "      <td>5191.0</td>\n",
       "      <td>no</td>\n",
       "    </tr>\n",
       "    <tr>\n",
       "      <th>2</th>\n",
       "      <td>37</td>\n",
       "      <td>services</td>\n",
       "      <td>married</td>\n",
       "      <td>high.school</td>\n",
       "      <td>no</td>\n",
       "      <td>yes</td>\n",
       "      <td>no</td>\n",
       "      <td>telephone</td>\n",
       "      <td>may</td>\n",
       "      <td>mon</td>\n",
       "      <td>...</td>\n",
       "      <td>1</td>\n",
       "      <td>999</td>\n",
       "      <td>0</td>\n",
       "      <td>nonexistent</td>\n",
       "      <td>1.1</td>\n",
       "      <td>93.994</td>\n",
       "      <td>-36.4</td>\n",
       "      <td>4.857</td>\n",
       "      <td>5191.0</td>\n",
       "      <td>no</td>\n",
       "    </tr>\n",
       "    <tr>\n",
       "      <th>3</th>\n",
       "      <td>40</td>\n",
       "      <td>admin.</td>\n",
       "      <td>married</td>\n",
       "      <td>basic.6y</td>\n",
       "      <td>no</td>\n",
       "      <td>no</td>\n",
       "      <td>no</td>\n",
       "      <td>telephone</td>\n",
       "      <td>may</td>\n",
       "      <td>mon</td>\n",
       "      <td>...</td>\n",
       "      <td>1</td>\n",
       "      <td>999</td>\n",
       "      <td>0</td>\n",
       "      <td>nonexistent</td>\n",
       "      <td>1.1</td>\n",
       "      <td>93.994</td>\n",
       "      <td>-36.4</td>\n",
       "      <td>4.857</td>\n",
       "      <td>5191.0</td>\n",
       "      <td>no</td>\n",
       "    </tr>\n",
       "    <tr>\n",
       "      <th>4</th>\n",
       "      <td>56</td>\n",
       "      <td>services</td>\n",
       "      <td>married</td>\n",
       "      <td>high.school</td>\n",
       "      <td>no</td>\n",
       "      <td>no</td>\n",
       "      <td>yes</td>\n",
       "      <td>telephone</td>\n",
       "      <td>may</td>\n",
       "      <td>mon</td>\n",
       "      <td>...</td>\n",
       "      <td>1</td>\n",
       "      <td>999</td>\n",
       "      <td>0</td>\n",
       "      <td>nonexistent</td>\n",
       "      <td>1.1</td>\n",
       "      <td>93.994</td>\n",
       "      <td>-36.4</td>\n",
       "      <td>4.857</td>\n",
       "      <td>5191.0</td>\n",
       "      <td>no</td>\n",
       "    </tr>\n",
       "  </tbody>\n",
       "</table>\n",
       "<p>5 rows × 21 columns</p>\n",
       "</div>"
      ],
      "text/plain": [
       "   age        job  marital    education  default housing loan    contact  \\\n",
       "0   56  housemaid  married     basic.4y       no      no   no  telephone   \n",
       "1   57   services  married  high.school  unknown      no   no  telephone   \n",
       "2   37   services  married  high.school       no     yes   no  telephone   \n",
       "3   40     admin.  married     basic.6y       no      no   no  telephone   \n",
       "4   56   services  married  high.school       no      no  yes  telephone   \n",
       "\n",
       "  month day_of_week ...  campaign  pdays  previous     poutcome emp.var.rate  \\\n",
       "0   may         mon ...         1    999         0  nonexistent          1.1   \n",
       "1   may         mon ...         1    999         0  nonexistent          1.1   \n",
       "2   may         mon ...         1    999         0  nonexistent          1.1   \n",
       "3   may         mon ...         1    999         0  nonexistent          1.1   \n",
       "4   may         mon ...         1    999         0  nonexistent          1.1   \n",
       "\n",
       "   cons.price.idx  cons.conf.idx  euribor3m  nr.employed   y  \n",
       "0          93.994          -36.4      4.857       5191.0  no  \n",
       "1          93.994          -36.4      4.857       5191.0  no  \n",
       "2          93.994          -36.4      4.857       5191.0  no  \n",
       "3          93.994          -36.4      4.857       5191.0  no  \n",
       "4          93.994          -36.4      4.857       5191.0  no  \n",
       "\n",
       "[5 rows x 21 columns]"
      ]
     },
     "execution_count": 68,
     "metadata": {},
     "output_type": "execute_result"
    }
   ],
   "source": [
    "df.head()"
   ]
  },
  {
   "cell_type": "code",
   "execution_count": 69,
   "metadata": {},
   "outputs": [
    {
     "data": {
      "text/plain": [
       "Index(['age', 'job', 'marital', 'education', 'default', 'housing', 'loan',\n",
       "       'contact', 'month', 'day_of_week', 'duration', 'campaign', 'pdays',\n",
       "       'previous', 'poutcome', 'emp.var.rate', 'cons.price.idx',\n",
       "       'cons.conf.idx', 'euribor3m', 'nr.employed', 'y'],\n",
       "      dtype='object')"
      ]
     },
     "execution_count": 69,
     "metadata": {},
     "output_type": "execute_result"
    }
   ],
   "source": [
    "df.columns"
   ]
  },
  {
   "cell_type": "code",
   "execution_count": 70,
   "metadata": {},
   "outputs": [
    {
     "data": {
      "text/plain": [
       "(41188, 21)"
      ]
     },
     "execution_count": 70,
     "metadata": {},
     "output_type": "execute_result"
    }
   ],
   "source": [
    "df.shape"
   ]
  },
  {
   "cell_type": "markdown",
   "metadata": {},
   "source": [
    "#### Checking if there any null value"
   ]
  },
  {
   "cell_type": "code",
   "execution_count": 71,
   "metadata": {},
   "outputs": [
    {
     "data": {
      "text/plain": [
       "False"
      ]
     },
     "execution_count": 71,
     "metadata": {},
     "output_type": "execute_result"
    }
   ],
   "source": [
    "df.isnull().values.any()"
   ]
  },
  {
   "cell_type": "markdown",
   "metadata": {},
   "source": [
    "#### Dividing columns into categorical and continuous features"
   ]
  },
  {
   "cell_type": "code",
   "execution_count": 72,
   "metadata": {},
   "outputs": [],
   "source": [
    "categories = []\n",
    "numeric = []\n",
    "for x in df.columns:\n",
    "    if (isinstance(df[x][0], str) and x!='y'):\n",
    "        categories.append(x)\n",
    "    elif (x!='y'):\n",
    "        numeric.append(x)"
   ]
  },
  {
   "cell_type": "code",
   "execution_count": 73,
   "metadata": {},
   "outputs": [
    {
     "data": {
      "text/plain": [
       "['job',\n",
       " 'marital',\n",
       " 'education',\n",
       " 'default',\n",
       " 'housing',\n",
       " 'loan',\n",
       " 'contact',\n",
       " 'month',\n",
       " 'day_of_week',\n",
       " 'poutcome']"
      ]
     },
     "execution_count": 73,
     "metadata": {},
     "output_type": "execute_result"
    }
   ],
   "source": [
    "categories"
   ]
  },
  {
   "cell_type": "code",
   "execution_count": 74,
   "metadata": {},
   "outputs": [
    {
     "data": {
      "text/plain": [
       "['age',\n",
       " 'duration',\n",
       " 'campaign',\n",
       " 'pdays',\n",
       " 'previous',\n",
       " 'emp.var.rate',\n",
       " 'cons.price.idx',\n",
       " 'cons.conf.idx',\n",
       " 'euribor3m',\n",
       " 'nr.employed']"
      ]
     },
     "execution_count": 74,
     "metadata": {},
     "output_type": "execute_result"
    }
   ],
   "source": [
    "numeric"
   ]
  },
  {
   "cell_type": "markdown",
   "metadata": {},
   "source": [
    "#### Encoding categorical features to convert categorical features to integers"
   ]
  },
  {
   "cell_type": "code",
   "execution_count": 75,
   "metadata": {},
   "outputs": [],
   "source": [
    "enc = OrdinalEncoder()"
   ]
  },
  {
   "cell_type": "code",
   "execution_count": 76,
   "metadata": {
    "scrolled": true
   },
   "outputs": [],
   "source": [
    "for x in categories:\n",
    "    df[x] = enc.fit_transform(df[[x]])\n",
    "df['y'] = enc.fit_transform(df[['y']])\n",
    "#Droping negative because Multinomial Naive Bayes cant process negative values\n",
    "df.drop(columns=['emp.var.rate', 'cons.conf.idx'], inplace=True)\n",
    "numeric.remove('emp.var.rate')\n",
    "numeric.remove('cons.conf.idx')"
   ]
  },
  {
   "cell_type": "markdown",
   "metadata": {},
   "source": [
    "#### Using Random State [10, 20, 30, 40, 50, 60, 70, 80, 90,100] for splitting training and test data"
   ]
  },
  {
   "cell_type": "code",
   "execution_count": 77,
   "metadata": {},
   "outputs": [],
   "source": [
    "all_scores_acc = {}\n",
    "all_scores_auc = {}\n",
    "seed_list =  [10, 20, 30, 40, 50, 60, 70, 80, 90,100]\n",
    "acc_train = []\n",
    "auc_train = []\n",
    "acc_test = []\n",
    "auc_test = []"
   ]
  },
  {
   "cell_type": "code",
   "execution_count": 78,
   "metadata": {},
   "outputs": [],
   "source": [
    "for rand_seed in seed_list:\n",
    "    X_train, X_test, y_train, y_test = train_test_split(df.drop(columns='y'), df.y, random_state=rand_seed, test_size=0.30)\n",
    "    \n",
    "    gnb = GaussianNB()\n",
    "    gnb.fit(X_train, y_train)\n",
    "    \n",
    "    pred = gnb.predict(X_train)\n",
    "    acc_train.append(accuracy_score(y_train, pred))\n",
    "    auc_train.append(roc_auc_score(y_train, pred))\n",
    "    \n",
    "    pred = gnb.predict(X_test)\n",
    "    acc_test.append(accuracy_score(y_test, pred))\n",
    "    auc_test.append(roc_auc_score(y_test, pred))\n",
    "\n",
    "all_scores_acc['ECF_GNB_Train'] = pd.Series(acc_train).mean()\n",
    "all_scores_auc['ECF_GNB_Train'] = pd.Series(auc_train).mean()\n",
    "\n",
    "all_scores_acc['ECF_GNB_Test'] = pd.Series(acc_test).mean()\n",
    "all_scores_auc['ECF_GNB_Test'] = pd.Series(auc_test).mean()"
   ]
  },
  {
   "cell_type": "code",
   "execution_count": 79,
   "metadata": {},
   "outputs": [
    {
     "name": "stdout",
     "output_type": "stream",
     "text": [
      "Encoding categorical features with Gaussian Naive Bayes\n",
      "\n",
      "Train Average ACC 0.8544240574381743\n",
      "Test Average ACC 0.8534433924091609\n",
      "\n",
      "Train Average AUC 0.7181120005508519\n",
      "Test Average AUC 0.7137619760402601\n"
     ]
    }
   ],
   "source": [
    "print('Encoding categorical features with Gaussian Naive Bayes\\n')\n",
    "print('Train Average ACC', all_scores_acc['ECF_GNB_Train'])\n",
    "print('Test Average ACC', all_scores_acc['ECF_GNB_Test'])\n",
    "print()\n",
    "print('Train Average AUC', all_scores_auc['ECF_GNB_Train'])\n",
    "print('Test Average AUC', all_scores_auc['ECF_GNB_Test'])"
   ]
  },
  {
   "cell_type": "code",
   "execution_count": 80,
   "metadata": {},
   "outputs": [],
   "source": [
    "acc_train.clear(); auc_train.clear(); acc_test.clear(); auc_test.clear();"
   ]
  },
  {
   "cell_type": "code",
   "execution_count": 81,
   "metadata": {},
   "outputs": [],
   "source": [
    "for rand_seed in seed_list:\n",
    "    X_train, X_test, y_train, y_test = train_test_split(df.drop(columns='y'), df.y, random_state=rand_seed, test_size=0.30)\n",
    "    \n",
    "    mnb = MultinomialNB()\n",
    "    mnb.fit(X_train, y_train)\n",
    "    \n",
    "    pred = mnb.predict(X_train)\n",
    "    acc_train.append(accuracy_score(y_train, pred))\n",
    "    auc_train.append(roc_auc_score(y_train, pred))\n",
    "    \n",
    "    pred = mnb.predict(X_test)\n",
    "    acc_test.append(accuracy_score(y_test, pred))\n",
    "    auc_test.append(roc_auc_score(y_test, pred))\n",
    "\n",
    "all_scores_acc['ECF_MNB_Train'] = pd.Series(acc_train).mean()\n",
    "all_scores_auc['ECF_MNB_Train'] = pd.Series(auc_train).mean()\n",
    "\n",
    "all_scores_acc['ECF_MNB_Test'] = pd.Series(acc_test).mean()\n",
    "all_scores_auc['ECF_MNB_Test'] = pd.Series(auc_test).mean()"
   ]
  },
  {
   "cell_type": "code",
   "execution_count": 82,
   "metadata": {},
   "outputs": [
    {
     "name": "stdout",
     "output_type": "stream",
     "text": [
      "Encoding categorical features with Multinomial Naive Bayes\n",
      "\n",
      "Train Average ACC 0.842880926780202\n",
      "Test Average ACC 0.8435704459011089\n",
      "\n",
      "Train Average AUC 0.7766866639567012\n",
      "Test Average AUC 0.7772292323944472\n"
     ]
    }
   ],
   "source": [
    "print('Encoding categorical features with Multinomial Naive Bayes\\n')\n",
    "print('Train Average ACC', all_scores_acc['ECF_MNB_Train'])\n",
    "print('Test Average ACC', all_scores_acc['ECF_MNB_Test'])\n",
    "print()\n",
    "print('Train Average AUC', all_scores_auc['ECF_MNB_Train'])\n",
    "print('Test Average AUC', all_scores_auc['ECF_MNB_Test'])"
   ]
  },
  {
   "cell_type": "code",
   "execution_count": 83,
   "metadata": {},
   "outputs": [],
   "source": [
    "kbin = KBinsDiscretizer(encode='ordinal', strategy='uniform')"
   ]
  },
  {
   "cell_type": "code",
   "execution_count": 84,
   "metadata": {},
   "outputs": [],
   "source": [
    "for rand_seed in seed_list:\n",
    "    X_train, X_test, y_train, y_test = train_test_split(df.drop(columns='y'), df.y, random_state=rand_seed, test_size=0.30)\n",
    "    \n",
    "    for x in numeric:\n",
    "        X_train[x] = kbin.fit_transform(X_train[[x]])\n",
    "    \n",
    "    mnb = MultinomialNB()\n",
    "    mnb.fit(X_train, y_train)\n",
    "    \n",
    "    pred = mnb.predict(X_train)\n",
    "    acc_train.append(accuracy_score(y_train, pred))\n",
    "    auc_train.append(roc_auc_score(y_train, pred))\n",
    "    \n",
    "    pred = mnb.predict(X_test)\n",
    "    acc_test.append(accuracy_score(y_test, pred))\n",
    "    auc_test.append(roc_auc_score(y_test, pred))\n",
    "\n",
    "all_scores_acc['DSCRT_MNB_Train'] = pd.Series(acc_train).mean()\n",
    "all_scores_auc['DSCRT_MNB_Train'] = pd.Series(auc_train).mean()\n",
    "\n",
    "all_scores_acc['DSCRT_MNB_Test'] = pd.Series(acc_test).mean()\n",
    "all_scores_auc['DSCRT_MNB_Test'] = pd.Series(auc_test).mean()"
   ]
  },
  {
   "cell_type": "code",
   "execution_count": 85,
   "metadata": {},
   "outputs": [
    {
     "name": "stdout",
     "output_type": "stream",
     "text": [
      "Discretization with Multinomial Naive Bayes\n",
      "\n",
      "Train Average ACC 0.8450053761576081\n",
      "Test Average ACC 0.8684551266488632\n",
      "\n",
      "Train Average AUC 0.7263817056127524\n",
      "Test Average AUC 0.6791460593207552\n"
     ]
    }
   ],
   "source": [
    "print('Discretization with Multinomial Naive Bayes\\n')\n",
    "print('Train Average ACC', all_scores_acc['DSCRT_MNB_Train'])\n",
    "print('Test Average ACC', all_scores_acc['DSCRT_MNB_Test'])\n",
    "print()\n",
    "print('Train Average AUC', all_scores_auc['DSCRT_MNB_Train'])\n",
    "print('Test Average AUC', all_scores_auc['DSCRT_MNB_Test'])"
   ]
  },
  {
   "cell_type": "code",
   "execution_count": 86,
   "metadata": {},
   "outputs": [
    {
     "data": {
      "text/plain": [
       "<Container object of 6 artists>"
      ]
     },
     "execution_count": 86,
     "metadata": {},
     "output_type": "execute_result"
    },
    {
     "data": {
      "image/png": "[encoded data removed]",
      "text/plain": [
       "<matplotlib.figure.Figure at 0x1179985c0>"
      ]
     },
     "metadata": {
      "needs_background": "light"
     },
     "output_type": "display_data"
    }
   ],
   "source": [
    "plt.figure(figsize=(12,6))\n",
    "plt.title('Accuracy Score of Train and Test Sets with Different Feature Preprocessing')\n",
    "plt.xlabel('Feature Preprocessings with Train and Test Sets')\n",
    "plt.ylabel('Accuracy Score')\n",
    "plt.bar(all_scores_acc.keys(), all_scores_acc.values())"
   ]
  },
  {
   "cell_type": "markdown",
   "metadata": {},
   "source": [
    "After doing discretization, Multinomial Naive Bayes is performaing better than Encoding Categorical Features - Gaussian Naive Bayes and Encoding Categorical Features - Multinomial Naive Bayes in both Train and Test sets for accuracy score."
   ]
  },
  {
   "cell_type": "code",
   "execution_count": 87,
   "metadata": {
    "scrolled": false
   },
   "outputs": [
    {
     "data": {
      "text/plain": [
       "<Container object of 6 artists>"
      ]
     },
     "execution_count": 87,
     "metadata": {},
     "output_type": "execute_result"
    },
    {
     "data": {
      "image/png": "[encoded data removed]",
      "text/plain": [
       "<matplotlib.figure.Figure at 0x1a1be04400>"
      ]
     },
     "metadata": {
      "needs_background": "light"
     },
     "output_type": "display_data"
    }
   ],
   "source": [
    "plt.figure(figsize=(12,6))\n",
    "plt.title('AUC Score of Train and Test Sets with Different Feature Preprocessing')\n",
    "plt.xlabel('Feature Preprocessings with Train and Test Sets')\n",
    "plt.ylabel('AUC Score')\n",
    "plt.bar(all_scores_auc.keys(), all_scores_auc.values())"
   ]
  },
  {
   "cell_type": "markdown",
   "metadata": {},
   "source": [
    "After doing discretization, Multinomial Naive Bayes is performaing worse than Encoding Categorical Features - Gaussian Naive Bayes and Encoding Categorical Features - Multinomial Naive Bayes in both Train and Test sets for area under curve score."
   ]
  },
  {
   "cell_type": "code",
   "execution_count": 88,
   "metadata": {},
   "outputs": [],
   "source": [
    "for rand_seed in seed_list:\n",
    "    X_train, X_test, y_train, y_test = train_test_split(df.drop(columns='y'), df.y, random_state=rand_seed, test_size=0.30)\n",
    "    \n",
    "    for x in numeric:\n",
    "        X_train[x] = kbin.fit_transform(X_train[[x]])\n",
    "    \n",
    "    mnb = MultinomialNB()\n",
    "    mnb.fit(X_train, y_train)\n",
    "    \n",
    "    pred = mnb.predict(X_train)\n",
    "    acc_train.append(accuracy_score(y_train, pred))\n",
    "    auc_train.append(roc_auc_score(y_train, pred))\n",
    "    \n",
    "    pred = mnb.predict(X_test)\n",
    "    acc_test.append(accuracy_score(y_test, pred))\n",
    "    auc_test.append(roc_auc_score(y_test, pred))\n",
    "\n",
    "all_scores_acc['DSCRT_MNB_Train'] = pd.Series(acc_train).mean()\n",
    "all_scores_auc['DSCRT_MNB_Train'] = pd.Series(auc_train).mean()\n",
    "\n",
    "all_scores_acc['DSCRT_MNB_Test'] = pd.Series(acc_test).mean()\n",
    "all_scores_auc['DSCRT_MNB_Test'] = pd.Series(auc_test).mean()"
   ]
  },
  {
   "cell_type": "code",
   "execution_count": 89,
   "metadata": {},
   "outputs": [],
   "source": [
    "rfe_acc_list_train = [0]\n",
    "rfe_acc_list_test = [0]\n",
    "\n",
    "rfe_auc_list_train = [0]\n",
    "rfe_auc_list_test = [0]\n",
    "\n",
    "for no_fe in range(1, X_train.shape[1]+1):\n",
    "    mnb_rfe = MultinomialNB()\n",
    "    rfe = RFE(mnb_rfe, no_fe, step=1)\n",
    "    rfe = rfe.fit(X_train, y_train)\n",
    "    \n",
    "    rfe_pred = rfe.predict(X_train)\n",
    "    rfe_acc_list_train.append(accuracy_score(y_train, rfe_pred))\n",
    "    rfe_auc_list_train.append(roc_auc_score(y_train, rfe_pred))\n",
    "    \n",
    "    rfe_pred = rfe.predict(X_test)\n",
    "    rfe_acc_list_test.append(accuracy_score(y_test, rfe_pred))\n",
    "    rfe_auc_list_test.append(roc_auc_score(y_test, rfe_pred))"
   ]
  },
  {
   "cell_type": "code",
   "execution_count": 90,
   "metadata": {},
   "outputs": [
    {
     "data": {
      "image/png": "[encoded data removed]",
      "text/plain": [
       "<matplotlib.figure.Figure at 0xd1a286128>"
      ]
     },
     "metadata": {
      "needs_background": "light"
     },
     "output_type": "display_data"
    }
   ],
   "source": [
    "features = [x for x in range (0, 19)]\n",
    "plt.figure(figsize=(15,9))\n",
    "plt.plot(rfe_acc_list_train, label='Train Set ACC')\n",
    "plt.plot(rfe_acc_list_test, label='Test Set ACC')\n",
    "plt.plot(features, rfe_auc_list_train, label='Train Set AUC', linestyle='--')\n",
    "plt.plot(features, rfe_auc_list_test, label='Test Set AUC', linestyle='--')\n",
    "plt.xticks(np.arange(min(features), max(features)+1, 1.0))\n",
    "plt.yticks(np.arange(min(rfe_acc_list_test), max(rfe_acc_list_test), 0.1))\n",
    "plt.ylabel('Score of ACC or AUC')\n",
    "plt.xlabel('Number of Features')\n",
    "plt.title('ACC and AUC with the different number of best features')\n",
    "plt.legend()\n",
    "plt.show()"
   ]
  },
  {
   "cell_type": "code",
   "execution_count": 91,
   "metadata": {},
   "outputs": [
    {
     "name": "stdout",
     "output_type": "stream",
     "text": [
      "Best Case Features:\n",
      "----------------------\n",
      "\n",
      "Train Set ACC Best Case Features\n",
      "Number of features selected: 4 out of 18 => Score: 0.892095314071659\n",
      "\n",
      "Test Set ACC Best Case Features\n",
      "Number of features selected: 17 out of 18 => Score: 0.8953629521728574\n",
      "\n",
      "Train Set AUC Best Case Features\n",
      "Number of features selected: 18 out of 18 => Score: 0.6781035330747206\n",
      "\n",
      "Test Set AUC Best Case Features\n",
      "Number of features selected: 13 out of 18 => Score: 0.7072746902083078\n",
      "\n",
      "Worst Case Features:\n",
      "----------------------\n",
      "\n",
      "Train Set ACC Worst Case Features\n",
      "Number of features selected: 18 out of 18 => Score: 0.8439873747008428\n",
      "\n",
      "Test Set ACC Worst Case Features\n",
      "Number of features selected: 10 out of 18 => Score: 0.11232499797685522\n",
      "\n",
      "Train Set AUC Worst Case Features\n",
      "Number of features selected: 1 out of 18 => Score: 0.5\n",
      "\n",
      "Test Set AUC Worst Case Features\n",
      "Number of features selected: 1 out of 18 => Score: 0.5\n",
      "\n"
     ]
    }
   ],
   "source": [
    "def printBest(lst, st):\n",
    "    print(st+str(' Best Case Features'))\n",
    "    print('Number of features selected: '+str(lst.index(max(lst)))+' out of '+str(len(lst)-1)+' => Score: '+str(max(lst)))\n",
    "    print()\n",
    "    \n",
    "def printWorst(lst, st):\n",
    "    print(st+str(' Worst Case Features'))\n",
    "    print('Number of features selected: '+str(lst.index(min(lst[1:])))+' out of '+str(len(lst)-1)+' => Score: '+str(min(lst[1:])))\n",
    "    print()\n",
    "\n",
    "print(\"Best Case Features:\\n----------------------\\n\")\n",
    "printBest(rfe_acc_list_train, 'Train Set ACC')\n",
    "printBest(rfe_acc_list_test, 'Test Set ACC')\n",
    "printBest(rfe_auc_list_train, 'Train Set AUC')\n",
    "printBest(rfe_auc_list_test, 'Test Set AUC')\n",
    "print(\"Worst Case Features:\\n----------------------\\n\")\n",
    "printWorst(rfe_acc_list_train, 'Train Set ACC')\n",
    "printWorst(rfe_acc_list_test, 'Test Set ACC')\n",
    "printWorst(rfe_auc_list_train, 'Train Set AUC')\n",
    "printWorst(rfe_auc_list_test, 'Test Set AUC')"
   ]
  }
 ],
 "metadata": {
  "kernelspec": {
   "display_name": "Python 3",
   "language": "python",
   "name": "python3"
  },
  "language_info": {
   "codemirror_mode": {
    "name": "ipython",
    "version": 3
   },
   "file_extension": ".py",
   "mimetype": "text/x-python",
   "name": "python",
   "nbconvert_exporter": "python",
   "pygments_lexer": "ipython3",
   "version": "3.6.5"
  }
 },
 "nbformat": 4,
 "nbformat_minor": 2
}
